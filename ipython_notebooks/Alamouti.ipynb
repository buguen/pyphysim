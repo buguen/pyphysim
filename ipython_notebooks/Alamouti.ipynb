{
 "cells": [
  {
   "cell_type": "markdown",
   "metadata": {},
   "source": [
    "# Alamouti STBC"
   ]
  },
  {
   "cell_type": "markdown",
   "metadata": {},
   "source": [
    "This notebook illustrates the simulation of an Alamouti MIMO scheme transmission through a flat fading rayleight channel.\n",
    "\n",
    "We simulate the Alamouti STBC with a 16-QAM modulation, as well as BPSK modulation."
   ]
  },
  {
   "cell_type": "markdown",
   "metadata": {},
   "source": [
    "## Initializations"
   ]
  },
  {
   "cell_type": "markdown",
   "metadata": {},
   "source": [
    "First we set the Python path and import some libraries."
   ]
  },
  {
   "cell_type": "code",
   "execution_count": 1,
   "metadata": {
    "collapsed": false
   },
   "outputs": [
    {
     "name": "stdout",
     "output_type": "stream",
     "text": [
      "Populating the interactive namespace from numpy and matplotlib\n"
     ]
    }
   ],
   "source": [
    "%pylab inline\n",
    "from IPython.display import clear_output"
   ]
  },
  {
   "cell_type": "code",
   "execution_count": 2,
   "metadata": {
    "collapsed": false
   },
   "outputs": [],
   "source": [
    "# xxxxxxxxxx Add the parent folder to the python path. xxxxxxxxxxxxxxxxxxxx\n",
    "import sys\n",
    "import os\n",
    "sys.path.append('../')\n",
    "# xxxxxxxxxxxxxxxxxxxxxxxxxxxxxxxxxxxxxxxxxxxxxxxxxxxxxxxxxxxxxxxxxxxxxxxxx\n",
    "\n",
    "import numpy as np"
   ]
  },
  {
   "cell_type": "markdown",
   "metadata": {},
   "source": [
    "Because there is already an Alamouti simulator implemented in the \"apps\" folder of PyPhysim, we simple import it here and set the desired simulation parameters."
   ]
  },
  {
   "cell_type": "code",
   "execution_count": 3,
   "metadata": {
    "collapsed": false
   },
   "outputs": [],
   "source": [
    "from pyphysim.modulators import BPSK, QAM\n",
    "from apps.mimo.simulate_mimo import AlamoutiSimulationRunner, plot_ber, plot_ser, plot_ber_and_ser"
   ]
  },
  {
   "cell_type": "markdown",
   "metadata": {},
   "source": [
    "## Simulation of Alamouti with 16-QAM"
   ]
  },
  {
   "cell_type": "markdown",
   "metadata": {},
   "source": [
    "First we create the SimulationRunner objects. Note that the actual simulator is already implemented as an application in PyPhysim and we are only setting the parameters here."
   ]
  },
  {
   "cell_type": "code",
   "execution_count": 4,
   "metadata": {
    "collapsed": false
   },
   "outputs": [
    {
     "name": "stderr",
     "output_type": "stream",
     "text": [
      "/home/uguen/anaconda/lib/python2.7/site-packages/configobj.py:2230: FutureWarning: elementwise comparison failed; returning scalar instead, but in the future will perform elementwise comparison\n",
      "  if (check != val) or missing:\n"
     ]
    }
   ],
   "source": [
    "sim = AlamoutiSimulationRunner('mimo_alamouti_config_file.txt', read_command_line_args=False)\n",
    "\n",
    "sim2 = AlamoutiSimulationRunner('mimo_alamouti_config_file.txt', read_command_line_args=False)\n"
   ]
  },
  {
   "cell_type": "code",
   "execution_count": 5,
   "metadata": {
    "collapsed": true
   },
   "outputs": [],
   "source": [
    "sim.NSymbs = 300\n",
    "sim.rep_max = 10000\n",
    "sim.params.add('SNR', np.linspace(0, 25, 11))\n",
    "sim.modulator = QAM(16)\n",
    "sim.Nr=1\n",
    "sim.update_progress_function_style = 'ipython'\n",
    "sim.progressbar_message = 'Simulating for SNR {SNR}'\n",
    "# max_bit_errors is used in the _keep_going method to stop the\n",
    "# simulation earlier if possible. We stop the simulation if the\n",
    "# accumulated number of bit errors becomes greater then 0.1% of the\n",
    "# total number of simulated bits\n",
    "sim.max_bit_errors = sim.rep_max * sim.NSymbs * 0.001\n",
    "sim.clear()"
   ]
  },
  {
   "cell_type": "code",
   "execution_count": 18,
   "metadata": {
    "collapsed": true
   },
   "outputs": [],
   "source": [
    "\n",
    "sim2.NSymbs = 300\n",
    "sim2.rep_max = 10000\n",
    "sim2.params.add('SNR', np.linspace(0, 25, 11))\n",
    "sim2.modulator = QAM(16)\n",
    "sim2.Nr=2\n",
    "sim2.update_progress_function_style = 'ipython'\n",
    "sim2.progressbar_message = 'Simulating for SNR {SNR}'\n",
    "sim2.max_bit_errors = sim2.rep_max * sim2.NSymbs * 0.001\n",
    "sim2.clear()"
   ]
  },
  {
   "cell_type": "code",
   "execution_count": 7,
   "metadata": {
    "collapsed": false
   },
   "outputs": [
    {
     "data": {
      "text/plain": [
       "pyphysim.simulations.parameters.SimulationParameters"
      ]
     },
     "execution_count": 7,
     "metadata": {},
     "output_type": "execute_result"
    }
   ],
   "source": [
    "type(sim.params)"
   ]
  },
  {
   "cell_type": "code",
   "execution_count": 19,
   "metadata": {
    "collapsed": false
   },
   "outputs": [
    {
     "name": "stdout",
     "output_type": "stream",
     "text": [
      "{'modulator': QAM, 'NSymbs': 200, 'M': 16, 'unpacked_parameters': ['SNR'], 'SNR*': [  0.   5.  10.  15.  20.], 'max_bit_errors': 3000, 'rep_max': 5000, 'Nr': 1, 'Nt': 2}\n",
      "{'modulator': QAM, 'NSymbs': 200, 'M': 16, 'unpacked_parameters': ['SNR'], 'SNR*': [  0.    2.5   5.    7.5  10.   12.5  15.   17.5  20.   22.5  25. ], 'max_bit_errors': 3000, 'rep_max': 5000, 'Nr': 1, 'Nt': 2}\n"
     ]
    }
   ],
   "source": [
    "print sim.params\n",
    "print sim2.params"
   ]
  },
  {
   "cell_type": "markdown",
   "metadata": {},
   "source": [
    "During the simulation, we are only interested in the progressbar output for simulation of the current parameters. Therefore, lets set the _on_simulate_current_params_finish method of the SimulationRunner objects to a function that erases all the output from the cell."
   ]
  },
  {
   "cell_type": "code",
   "execution_count": 6,
   "metadata": {
    "collapsed": false
   },
   "outputs": [],
   "source": [
    "def clear_ipython_output(dummy1, dummy2=None):\n",
    "    clear_output()\n",
    "\n",
    "# Lets create a custom method to clear the output after the simulation of each combination of parameters\n",
    "sim._on_simulate_current_params_finish = clear_ipython_output\n",
    "sim2._on_simulate_current_params_finish = clear_ipython_output"
   ]
  },
  {
   "cell_type": "markdown",
   "metadata": {},
   "source": [
    "Now we can run the simulations.\n",
    "\n",
    "First we run the simulations for **NRx=1** with **16-QAM** modulation"
   ]
  },
  {
   "cell_type": "code",
   "execution_count": 10,
   "metadata": {
    "collapsed": true
   },
   "outputs": [],
   "source": [
    "sim2.Nr=2\n",
    "sim2.clear()"
   ]
  },
  {
   "cell_type": "code",
   "execution_count": 7,
   "metadata": {
    "collapsed": false
   },
   "outputs": [
    {
     "name": "stdout",
     "output_type": "stream",
     "text": [
      "Elapsed Time for simulation 1: 51.46s\n"
     ]
    }
   ],
   "source": [
    "sim.simulate()\n",
    "clear_output()\n",
    "print \"Elapsed Time for simulation 1: {0}\".format(sim.elapsed_time)"
   ]
  },
  {
   "cell_type": "markdown",
   "metadata": {},
   "source": [
    "and then we run the simulations for **NRx=2** with **16-QAM** modulation."
   ]
  },
  {
   "cell_type": "code",
   "execution_count": 20,
   "metadata": {
    "collapsed": false
   },
   "outputs": [
    {
     "ename": "KeyError",
     "evalue": "'SNR'",
     "output_type": "error",
     "traceback": [
      "\u001b[1;31m---------------------------------------------------------------------------\u001b[0m",
      "\u001b[1;31mKeyError\u001b[0m                                  Traceback (most recent call last)",
      "\u001b[1;32m<ipython-input-20-912c826b8522>\u001b[0m in \u001b[0;36m<module>\u001b[1;34m()\u001b[0m\n\u001b[1;32m----> 1\u001b[1;33m \u001b[0msim2\u001b[0m\u001b[1;33m.\u001b[0m\u001b[0msimulate\u001b[0m\u001b[1;33m(\u001b[0m\u001b[1;33m)\u001b[0m\u001b[1;33m\u001b[0m\u001b[0m\n\u001b[0m\u001b[0;32m      2\u001b[0m \u001b[0mclear_output\u001b[0m\u001b[1;33m(\u001b[0m\u001b[1;33m)\u001b[0m\u001b[1;33m\u001b[0m\u001b[0m\n\u001b[0;32m      3\u001b[0m \u001b[1;32mprint\u001b[0m \u001b[1;34m\"Elapsed Time for simulation 2: {0}\"\u001b[0m\u001b[1;33m.\u001b[0m\u001b[0mformat\u001b[0m\u001b[1;33m(\u001b[0m\u001b[0msim2\u001b[0m\u001b[1;33m.\u001b[0m\u001b[0melapsed_time\u001b[0m\u001b[1;33m)\u001b[0m\u001b[1;33m\u001b[0m\u001b[0m\n",
      "\u001b[1;32m/home/uguen/Documents/rch/devel/pyphysim/pyphysim/simulations/runner.pyc\u001b[0m in \u001b[0;36msimulate\u001b[1;34m(self, param_variation_index)\u001b[0m\n\u001b[0;32m   1263\u001b[0m                 \u001b[1;33m(\u001b[0m\u001b[0mcurrent_rep\u001b[0m\u001b[1;33m,\u001b[0m \u001b[0mcurrent_sim_results\u001b[0m\u001b[1;33m,\u001b[0m \u001b[0m_\u001b[0m\u001b[1;33m)\u001b[0m\u001b[0;31m \u001b[0m\u001b[0;31m\\\u001b[0m\u001b[1;33m\u001b[0m\u001b[0m\n\u001b[0;32m   1264\u001b[0m                     = self._simulate_for_current_params_serial(\n\u001b[1;32m-> 1265\u001b[1;33m                         current_params, var_print_iter)\n\u001b[0m\u001b[0;32m   1266\u001b[0m \u001b[1;33m\u001b[0m\u001b[0m\n\u001b[0;32m   1267\u001b[0m                 \u001b[1;31m# Store the number of repetitions actually ran for the\u001b[0m\u001b[1;33m\u001b[0m\u001b[1;33m\u001b[0m\u001b[0m\n",
      "\u001b[1;32m/home/uguen/Documents/rch/devel/pyphysim/pyphysim/simulations/runner.pyc\u001b[0m in \u001b[0;36m_simulate_for_current_params_serial\u001b[1;34m(self, current_params, var_print_iter)\u001b[0m\n\u001b[0;32m   1067\u001b[0m \u001b[1;33m\u001b[0m\u001b[0m\n\u001b[0;32m   1068\u001b[0m         update_progress_func = self._get_serial_update_progress_function(\n\u001b[1;32m-> 1069\u001b[1;33m             current_params)\n\u001b[0m\u001b[0;32m   1070\u001b[0m \u001b[1;33m\u001b[0m\u001b[0m\n\u001b[0;32m   1071\u001b[0m         return self._simulate_for_current_params_common(current_params,\n",
      "\u001b[1;32m/home/uguen/Documents/rch/devel/pyphysim/pyphysim/simulations/runner.pyc\u001b[0m in \u001b[0;36m_get_serial_update_progress_function\u001b[1;34m(self, current_params)\u001b[0m\n\u001b[0;32m    712\u001b[0m         \u001b[1;31m# current_params then it will be replaced by the current value of\u001b[0m\u001b[1;33m\u001b[0m\u001b[1;33m\u001b[0m\u001b[0m\n\u001b[0;32m    713\u001b[0m         \u001b[1;31m# 'some_param'.\u001b[0m\u001b[1;33m\u001b[0m\u001b[1;33m\u001b[0m\u001b[0m\n\u001b[1;32m--> 714\u001b[1;33m         \u001b[0mmessage\u001b[0m \u001b[1;33m=\u001b[0m \u001b[0mself\u001b[0m\u001b[1;33m.\u001b[0m\u001b[0mprogressbar_message\u001b[0m\u001b[1;33m.\u001b[0m\u001b[0mformat\u001b[0m\u001b[1;33m(\u001b[0m\u001b[0mcurrent_params\u001b[0m\u001b[1;33m.\u001b[0m\u001b[0mparameters\u001b[0m\u001b[1;33m,\u001b[0m \u001b[0mrep_max\u001b[0m\u001b[1;33m=\u001b[0m\u001b[0mself\u001b[0m\u001b[1;33m.\u001b[0m\u001b[0mrep_max\u001b[0m\u001b[1;33m)\u001b[0m\u001b[1;33m\u001b[0m\u001b[0m\n\u001b[0m\u001b[0;32m    715\u001b[0m \u001b[1;33m\u001b[0m\u001b[0m\n\u001b[0;32m    716\u001b[0m         \u001b[1;31m# By default, the returned function is a dummy function that does\u001b[0m\u001b[1;33m\u001b[0m\u001b[1;33m\u001b[0m\u001b[0m\n",
      "\u001b[1;31mKeyError\u001b[0m: 'SNR'"
     ]
    }
   ],
   "source": [
    "sim2.simulate()\n",
    "clear_output()\n",
    "print \"Elapsed Time for simulation 2: {0}\".format(sim2.elapsed_time)"
   ]
  },
  {
   "cell_type": "markdown",
   "metadata": {},
   "source": [
    "### Plot the Results"
   ]
  },
  {
   "cell_type": "code",
   "execution_count": 17,
   "metadata": {
    "collapsed": false
   },
   "outputs": [
    {
     "data": {
      "image/png": "[encoded data removed]",
      "text/plain": [
       "<matplotlib.figure.Figure at 0x7fbee8eb99d0>"
      ]
     },
     "metadata": {},
     "output_type": "display_data"
    }
   ],
   "source": [
    "SNR = np.array(sim.results.params['SNR'])\n",
    "ber = sim.results.get_result_values_list('ber')\n",
    "ser = sim.results.get_result_values_list('ser')\n",
    "\n",
    "semilogy(SNR, ber, '-k*', label='NTx=2, NRx=1')\n",
    "\n",
    "ber2 = sim2.results.get_result_values_list('ber')\n",
    "ser2 = sim2.results.get_result_values_list('ser')\n",
    "semilogy(SNR, ber2, '-m*', label='NTx=2, NRx=2')\n",
    "\n",
    "xlabel('SNR')\n",
    "ylabel('Error')\n",
    "title('BER for QAM modulation with Alamouti (Rayleight channel)'.format(sim.modulator.name))\n",
    "legend()\n",
    "\n",
    "#grid(True, which='both', axis='both')\n",
    "grid()\n",
    "show()"
   ]
  },
  {
   "cell_type": "markdown",
   "metadata": {},
   "source": [
    "----------------------------"
   ]
  },
  {
   "cell_type": "markdown",
   "metadata": {},
   "source": [
    "## Simulation of Alamouti with BPSK"
   ]
  },
  {
   "cell_type": "markdown",
   "metadata": {},
   "source": [
    "Now lets repeat the simulation, but for BPSK modulation.\n",
    "We can use the same SimulationRunner objects and only change the modulator, but we also need to call the \"clear\" method in both objects toerase results from the previous simulation."
   ]
  },
  {
   "cell_type": "code",
   "execution_count": null,
   "metadata": {
    "collapsed": false
   },
   "outputs": [],
   "source": [
    "sim.modulator = BPSK()\n",
    "sim2.modulator = BPSK()\n",
    "\n",
    "sim.clear()   # Erase results from the previous simulation with 16-QAM\n",
    "sim2.clear()  # Erase results from the previous simulation with 16-QAM"
   ]
  },
  {
   "cell_type": "markdown",
   "metadata": {},
   "source": [
    "Now we can run the simulations.\n",
    "\n",
    "First we run the simulations for **NRx=1** with **BPSK** modulation"
   ]
  },
  {
   "cell_type": "code",
   "execution_count": null,
   "metadata": {
    "collapsed": false
   },
   "outputs": [],
   "source": [
    "sim.simulate()\n",
    "clear_output()\n",
    "print \"Elapsed Time for simulation 1: {0}\".format(sim.elapsed_time)"
   ]
  },
  {
   "cell_type": "markdown",
   "metadata": {},
   "source": [
    "and then we run the simulations for **NRx=2** with **BPSK** modulation."
   ]
  },
  {
   "cell_type": "code",
   "execution_count": null,
   "metadata": {
    "collapsed": false
   },
   "outputs": [],
   "source": [
    "sim2.simulate()\n",
    "clear_output()\n",
    "print \"Elapsed Time for simulation 2: {0}\".format(sim2.elapsed_time)"
   ]
  },
  {
   "cell_type": "markdown",
   "metadata": {},
   "source": [
    "### Plot the Results"
   ]
  },
  {
   "cell_type": "code",
   "execution_count": null,
   "metadata": {
    "collapsed": false
   },
   "outputs": [],
   "source": [
    "SNR = np.array(sim.results.params['SNR'])\n",
    "ber = sim.results.get_result_values_list('ber')\n",
    "ser = sim.results.get_result_values_list('ser')\n",
    "len(SNR)\n",
    "semilogy(SNR, ber, '-k*', label='NTx=2, NRx=1')\n",
    "\n",
    "ber2 = sim2.results.get_result_values_list('ber')\n",
    "ser2 = sim2.results.get_result_values_list('ser')\n",
    "semilogy(SNR, ber2, '-m*', label='NTx=2, NRx=2')\n",
    "\n",
    "xlabel('SNR')\n",
    "ylabel('Error')\n",
    "title('BER for BPSK modulation with Alamouti (Rayleight channel)'.format(sim.modulator.name))\n",
    "legend()\n",
    "\n",
    "#grid(True, which='both', axis='both')\n",
    "grid()\n",
    "show()"
   ]
  }
 ],
 "metadata": {
  "kernelspec": {
   "display_name": "Python 2",
   "language": "python",
   "name": "python2"
  },
  "language_info": {
   "codemirror_mode": {
    "name": "ipython",
    "version": 2
   },
   "file_extension": ".py",
   "mimetype": "text/x-python",
   "name": "python",
   "nbconvert_exporter": "python",
   "pygments_lexer": "ipython2",
   "version": "2.7.11"
  },
  "latex_envs": {
   "bibliofile": "biblio.bib",
   "cite_by": "apalike",
   "current_citInitial": 1,
   "eqLabelWithNumbers": true,
   "eqNumInitial": 0
  }
 },
 "nbformat": 4,
 "nbformat_minor": 0
}
