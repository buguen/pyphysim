{
 "cells": [
  {
   "cell_type": "markdown",
   "metadata": {},
   "source": [
    "Here in this notebook we will show the frequence response of a channel generated with the TDL (Tapped Delay Line) channel model using a jakes fading generator."
   ]
  },
  {
   "cell_type": "markdown",
   "metadata": {},
   "source": [
    "First some initializations."
   ]
  },
  {
   "cell_type": "code",
   "execution_count": 2,
   "metadata": {
    "collapsed": true
   },
   "outputs": [],
   "source": [
    "%matplotlib inline"
   ]
  },
  {
   "cell_type": "code",
   "execution_count": 23,
   "metadata": {
    "collapsed": false,
    "run_control": {
     "marked": true
    }
   },
   "outputs": [],
   "source": [
    "import sys\n",
    "import math\n",
    "import numpy as np\n",
    "from matplotlib import pyplot as plt\n",
    "from pyphysim.channels.fading import *\n",
    "from pyphysim.channels.fading_generators import *\n",
    "from pyphysim.util.conversion import linear2dB"
   ]
  },
  {
   "cell_type": "markdown",
   "metadata": {},
   "source": [
    "Now we configure the system parameters."
   ]
  },
  {
   "cell_type": "code",
   "execution_count": 24,
   "metadata": {
    "collapsed": true
   },
   "outputs": [],
   "source": [
    "maxSystemBand = 40e6  # 40 MHz (maximum) bandwidth\n",
    "# Number of subcarriers in this bandwidth\n",
    "max_num_of_subcarriers = math.floor(maxSystemBand/15e3)\n",
    "# Find the maximum FFT size we can use which is below than or equal\n",
    "# to maxNumOfSubcarriersInt\n",
    "max_num_of_subcarriers = int(\n",
    "    2 ** math.floor(math.log(max_num_of_subcarriers, 2)))\n",
    "\n",
    "# Calculate the actual bandwidth that we will used. \n",
    "# This will be lower than maxSystemBand\n",
    "bandwidth = 15e3 * max_num_of_subcarriers\n",
    "\n",
    "# Total number of subcarriers\n",
    "total_carriers = max_num_of_subcarriers"
   ]
  },
  {
   "cell_type": "markdown",
   "metadata": {},
   "source": [
    "Considering a band of 40MHz we can fit 2048 subcarriers. Thus we will actually use a bandwidth of $2018 \\times 15000 = 30.72$ MHz.\n",
    "\n",
    "Now let's set the Jakes related parameters."
   ]
  },
  {
   "cell_type": "code",
   "execution_count": 29,
   "metadata": {
    "collapsed": false
   },
   "outputs": [
    {
     "name": "stdout",
     "output_type": "stream",
     "text": [
      "The sampling time for this bandwidth is: 3.25520833333e-08\n"
     ]
    }
   ],
   "source": [
    "Fd = 5     # Doppler frequency (in Hz)\n",
    "Ts = 1./bandwidth  # Sampling interval (in seconds)\n",
    "NRays = 16  # Number of rays for the Jakes model\n",
    "\n",
    "jakes = JakesSampleGenerator(Fd, Ts, NRays)\n",
    "\n",
    "print(\"The sampling time for this bandwidth is: {0}\".format(Ts))"
   ]
  },
  {
   "cell_type": "markdown",
   "metadata": {},
   "source": [
    "For the TDL parameters, we will use the COST259_TU profile. This will give us the following tap powers and delays."
   ]
  },
  {
   "cell_type": "markdown",
   "metadata": {},
   "source": [
    "[COST 2159 channel model](http://www.merl.com/publications/docs/TR2006-111.pdf)"
   ]
  },
  {
   "cell_type": "code",
   "execution_count": 26,
   "metadata": {
    "collapsed": false
   },
   "outputs": [],
   "source": [
    "tap_powers = np.array([-5.7, -7.6, -10.1, -10.2, -10.2, -11.5, -13.4,\n",
    "                       -16.3, -16.9, -17.1, -17.4, -19.0, -19.0, -19.8,\n",
    "                       -21.5, -21.6, -22.1, -22.6, -23.5, -24.3])\n",
    "tap_delays = np.array([0, 0.217, 0.512, 0.514, 0.517, 0.674, 0.882,\n",
    "                       1.230, 1.287, 1.311, 1.349, 1.533, 1.535, 1.622,\n",
    "                       1.818, 1.836, 1.884, 1.943, 2.048, 2.140]) * 1e-6\n",
    "\n",
    "num_included_taps = tap_delays.size"
   ]
  },
  {
   "cell_type": "markdown",
   "metadata": {},
   "source": [
    "Now we can finally create thr TDL channel object."
   ]
  },
  {
   "cell_type": "code",
   "execution_count": 33,
   "metadata": {
    "collapsed": false
   },
   "outputs": [],
   "source": [
    "tdlchannel = TdlChannel(jakes, tap_powers_dB=tap_powers[0:num_included_taps], tap_delays=tap_delays[0:num_included_taps])"
   ]
  },
  {
   "cell_type": "markdown",
   "metadata": {},
   "source": [
    "From the TDL channel object we can get the fading map containing the frequency response of the channel."
   ]
  },
  {
   "cell_type": "code",
   "execution_count": 35,
   "metadata": {
    "collapsed": false
   },
   "outputs": [
    {
     "ename": "AttributeError",
     "evalue": "'TdlChannel' object has no attribute 'get_fading_map'",
     "output_type": "error",
     "traceback": [
      "\u001b[1;31m---------------------------------------------------------------------------\u001b[0m",
      "\u001b[1;31mAttributeError\u001b[0m                            Traceback (most recent call last)",
      "\u001b[1;32m<ipython-input-35-a50a1a40cc44>\u001b[0m in \u001b[0;36m<module>\u001b[1;34m()\u001b[0m\n\u001b[0;32m      1\u001b[0m \u001b[0mNSamples\u001b[0m \u001b[1;33m=\u001b[0m \u001b[1;36m1\u001b[0m  \u001b[1;31m# We will generate the map for only 1 TTI\u001b[0m\u001b[1;33m\u001b[0m\u001b[0m\n\u001b[1;32m----> 2\u001b[1;33m \u001b[0mfading_map\u001b[0m \u001b[1;33m=\u001b[0m \u001b[0mtdlchannel\u001b[0m\u001b[1;33m.\u001b[0m\u001b[0mget_fading_map\u001b[0m\u001b[1;33m(\u001b[0m\u001b[0mNSamples\u001b[0m\u001b[1;33m)\u001b[0m\u001b[1;33m\u001b[0m\u001b[0m\n\u001b[0m\u001b[0;32m      3\u001b[0m freqResponse = tdlchannel.get_channel_freq_response(\n\u001b[0;32m      4\u001b[0m     fading_map, max_num_of_subcarriers)\n\u001b[0;32m      5\u001b[0m \u001b[1;33m\u001b[0m\u001b[0m\n",
      "\u001b[1;31mAttributeError\u001b[0m: 'TdlChannel' object has no attribute 'get_fading_map'"
     ]
    }
   ],
   "source": [
    "NSamples = 1  # We will generate the map for only 1 TTI\n",
    "fading_map = tdlchannel.get_fading_map(NSamples)\n",
    "freqResponse = tdlchannel.get_channel_freq_response(\n",
    "    fading_map, max_num_of_subcarriers)\n",
    "\n",
    "# Get the freq response only in the PRBs\n",
    "central_carriers = np.r_[5:total_carriers:12]\n",
    "prbsFreqResponse = freqResponse[central_carriers,:]\n",
    "\n",
    "# xxxxxxxxxx Plot the amplitude and phase xxxxxxxxxxxxxxxxxxxxxxxx\n",
    "plt.figure(figsize=(16,8))\n",
    "\n",
    "plt.subplot(2,1,1)\n",
    "plt.plot(linear2dB(np.abs(freqResponse[:total_carriers,0])),'b')\n",
    "plt.plot(central_carriers, linear2dB(np.abs(prbsFreqResponse[:,0])),'*r')\n",
    "#plt.plot(central_carriers, np.abs(freqResponse[central_carriers,99]),'g*')\n",
    "plt.title('Frequency Response')\n",
    "plt.ylabel('Amplitude (in dB)')\n",
    "plt.xlabel('Subcarrier')\n",
    "plt.xlim((0,2050))\n",
    "\n",
    "plt.subplot(2,1,2)\n",
    "plt.plot(np.angle(freqResponse[:total_carriers,0]),'b')\n",
    "plt.plot(central_carriers, np.angle(prbsFreqResponse[:,0]),'*r')\n",
    "#plt.plot(central_carriers, np.abs(freqResponse[central_carriers,99]),'g*')\n",
    "plt.title('Frequency Response')\n",
    "plt.ylabel('Angle (in radians)')\n",
    "plt.xlabel('Phase')\n",
    "plt.xlim((0,2050))\n",
    "\n",
    "plt.show()"
   ]
  },
  {
   "cell_type": "markdown",
   "metadata": {},
   "source": [
    "# Get the impulse response of a subset of subcarriers\n",
    "\n",
    "Let's select a subset of the subcarriers, for instance 300 subcarriers."
   ]
  },
  {
   "cell_type": "code",
   "execution_count": null,
   "metadata": {
    "collapsed": false
   },
   "outputs": [],
   "source": [
    "naturalFreqResponse = np.fft.fftshift(freqResponse)\n",
    "\n",
    "plt.figure(figsize=(12,8))\n",
    "plt.subplot(2,1,1)\n",
    "plt.plot(linear2dB(np.abs(freqResponse)))\n",
    "plt.xlim(0,2048)\n",
    "plt.title(\"Frequency Response (without fftshift)\")\n",
    "plt.subplot(2,1,2)\n",
    "plt.plot(linear2dB(np.abs(naturalFreqResponse)))\n",
    "plt.xlim(0,2048)\n",
    "plt.title(\"Frequency Response (in natural order)\")\n",
    "plt.show()"
   ]
  },
  {
   "cell_type": "code",
   "execution_count": null,
   "metadata": {
    "collapsed": false
   },
   "outputs": [],
   "source": [
    "# Let's get a subset of 300 subcarriers\n",
    "startIdx = 331  # Index of the first subcarrier\n",
    "num_subcarriers_subset = 300\n",
    "naturalFreqResponse_300 = naturalFreqResponse[startIdx:startIdx+num_subcarriers_subset].flatten()\n",
    "freqResponse_300 = np.fft.ifftshift(naturalFreqResponse_300)\n",
    "plt.plot((np.abs(freqResponse_300)))\n",
    "plt.grid()\n",
    "plt.show()"
   ]
  },
  {
   "cell_type": "markdown",
   "metadata": {},
   "source": [
    "Notice how we have a **sundendly change** at some point in the frequency response.\n",
    "\n",
    "Now let's calculate the impulse response only on this subset."
   ]
  },
  {
   "cell_type": "code",
   "execution_count": null,
   "metadata": {
    "collapsed": false
   },
   "outputs": [],
   "source": [
    "# Impulse response considering all subcarriers\n",
    "impulse_response = np.fft.ifft(freqResponse,axis=0)\n",
    "# Impulse response considering only the selected 300 subcarriers\n",
    "impulse_response_300 = np.fft.ifft(freqResponse_300,axis=0)\n",
    "\n",
    "plt.figure(figsize=(16,14))\n",
    "plt.subplot(6,1,1)\n",
    "plt.stem(np.abs(impulse_response))\n",
    "plt.grid()\n",
    "plt.xlim(0,2048)\n",
    "\n",
    "plt.subplot(6,1,2)\n",
    "plt.plot(np.abs(np.fft.fft(impulse_response.flatten())))\n",
    "plt.xlim(0,2048)\n",
    "plt.grid()\n",
    "\n",
    "\n",
    "plt.subplot(6,1,3)\n",
    "plt.stem(np.abs(impulse_response_300))\n",
    "plt.grid()\n",
    "\n",
    "\n",
    "plt.subplot(6,1,4)\n",
    "plt.plot(np.abs(np.fft.fft(impulse_response_300.flatten())))\n",
    "plt.xlim(0,300)\n",
    "plt.grid()\n",
    "\n",
    "plt.subplot(6,1,5)\n",
    "plt.stem(np.abs(impulse_response_300_fixed))\n",
    "plt.grid()\n",
    "\n",
    "plt.subplot(6,1,6)\n",
    "impulse_response_300_fixed = np.copy(impulse_response_300)\n",
    "impulse_response_300_fixed[-30:] = 0.0\n",
    "plt.plot(np.abs(np.fft.fft(impulse_response_300_fixed.flatten())))\n",
    "plt.xlim(0,300)\n",
    "plt.grid()\n",
    "\n",
    "\n",
    "plt.show()"
   ]
  },
  {
   "cell_type": "code",
   "execution_count": null,
   "metadata": {
    "collapsed": false
   },
   "outputs": [],
   "source": [
    "impulse_response.shape"
   ]
  },
  {
   "cell_type": "markdown",
   "metadata": {},
   "source": [
    "# Interpolating the PRB frequency response to get the full map\n",
    "\n",
    "The interpolation will be performed using the IFFT followes by a larger FFT.\n",
    "\n",
    "First let's get the original impulse response."
   ]
  },
  {
   "cell_type": "code",
   "execution_count": null,
   "metadata": {
    "collapsed": false
   },
   "outputs": [],
   "source": [
    "H = freqResponse[:,0]\n",
    "h = np.fft.ifft(H, total_carriers)\n",
    "print(\"H.size: {0}\".format(H.size))"
   ]
  },
  {
   "cell_type": "markdown",
   "metadata": {},
   "source": [
    "Now let's get the impulse response considering we only know the channel at the central subcarriers in each PRB."
   ]
  },
  {
   "cell_type": "code",
   "execution_count": null,
   "metadata": {
    "collapsed": false
   },
   "outputs": [],
   "source": [
    "sampled_H = prbsFreqResponse[:,0]\n",
    "sampled_h = np.fft.ifft(sampled_H)\n",
    "print(\"H.size: {0}\".format(sampled_H.size))"
   ]
  },
  {
   "cell_type": "markdown",
   "metadata": {},
   "source": [
    "For comparison we can plot both impulse responses"
   ]
  },
  {
   "cell_type": "code",
   "execution_count": null,
   "metadata": {
    "collapsed": false
   },
   "outputs": [],
   "source": [
    "# Note that h has 2048 elements but we now only the first ones are different from zero\n",
    "plt.figure(figsize=(12,8))\n",
    "plt.subplot(2,1,1)\n",
    "plt.stem(abs(h[0:80]))\n",
    "plt.title('Original impulse response')\n",
    "plt.subplot(2,1,2)\n",
    "plt.stem(abs(sampled_h[0:80]))\n",
    "plt.title('Sampled (in freq domain) impulse response')\n",
    "plt.show()\n",
    "\n",
    "# The error is not very high, but there is some error\n",
    "squared_error = np.max(np.abs(sampled_h[0:171] - h[0:171]))\n",
    "print(\"Squared error (max): {0}\".format(squared_error))"
   ]
  },
  {
   "cell_type": "markdown",
   "metadata": {},
   "source": [
    "But the sampled_H **has dimension of only 171** (the number of PRBs in the configured bandwidth). We want it to have dimension equal to total_carriers. For that we will **compute the FFT of sampled_h** with total_carriers size."
   ]
  },
  {
   "cell_type": "code",
   "execution_count": null,
   "metadata": {
    "collapsed": false
   },
   "outputs": [],
   "source": [
    "new_H = np.fft.fft(sampled_h, total_carriers)\n",
    "\n",
    "new_h = np.fft.ifft(new_H)"
   ]
  },
  {
   "cell_type": "markdown",
   "metadata": {},
   "source": [
    "Now let's plot the horiginal frequency response and our interpolated frequency response. Note that the interpolated channel **new_H** starts at the central subcarrier of the first PRB. Thus in the plot we include the true channel starting at subcarrier 7."
   ]
  },
  {
   "cell_type": "code",
   "execution_count": null,
   "metadata": {
    "collapsed": false
   },
   "outputs": [],
   "source": [
    "plt.figure(figsize=(12,12))\n",
    "plt.subplot(2,1,1)\n",
    "plt.title(\"Frequency Response\")\n",
    "plt.plot(linear2dB(np.abs(new_H)))\n",
    "plt.xlim(0,2050)\n",
    "plt.hold(True)\n",
    "plt.plot(linear2dB(np.abs(H[6:])))\n",
    "plt.legend(['Sampled', 'Original'], loc='best')\n",
    "plt.ylabel('Amplitude (in dB)')\n",
    "\n",
    "plt.subplot(2,1,2)\n",
    "plt.plot((np.angle(new_H)))\n",
    "plt.hold(True)\n",
    "plt.plot((np.angle(H[6:])))\n",
    "plt.legend(['Sampled', 'Original'])\n",
    "plt.ylabel('Phase (in dB)')\n",
    "plt.xlabel('Subcarrier')\n",
    "plt.xlim(0,2050)\n",
    "\n",
    "plt.show()"
   ]
  }
 ],
 "metadata": {
  "kernelspec": {
   "display_name": "Python 2",
   "language": "python",
   "name": "python2"
  },
  "language_info": {
   "codemirror_mode": {
    "name": "ipython",
    "version": 2
   },
   "file_extension": ".py",
   "mimetype": "text/x-python",
   "name": "python",
   "nbconvert_exporter": "python",
   "pygments_lexer": "ipython2",
   "version": "2.7.11"
  },
  "latex_envs": {
   "bibliofile": "biblio.bib",
   "cite_by": "apalike",
   "current_citInitial": 1,
   "eqLabelWithNumbers": true,
   "eqNumInitial": 0
  }
 },
 "nbformat": 4,
 "nbformat_minor": 0
}
