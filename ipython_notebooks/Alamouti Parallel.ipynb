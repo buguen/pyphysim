{
 "cells": [
  {
   "cell_type": "markdown",
   "metadata": {},
   "source": [
    "Alamouti STBC\n",
    "=============\n",
    "\n",
    "This notebook illustrates the simulation of an Alamouti MIMO scheme transmission through a flat fading rayleight channel.\n",
    "\n",
    "We simulate the Alamouti STBC with a 16-QAM modulation, as well as BPSK modulation with 1 and two receive antennas.\n",
    "\n",
    "**Note: This notebook uses the parallel capabilities of IPython. Thus you need to start the engines in the cluster pannel before running the code here.**\n",
    "\n",
    "Initializations\n",
    "---------------\n",
    "\n",
    "First we create a IPython parallel client so that we can communicate with the engines."
   ]
  },
  {
   "cell_type": "code",
   "execution_count": 3,
   "metadata": {
    "collapsed": false
   },
   "outputs": [
    {
     "name": "stdout",
     "output_type": "stream",
     "text": [
      "Populating the interactive namespace from numpy and matplotlib\n"
     ]
    }
   ],
   "source": [
    "%pylab inline\n",
    "from matplotlib import pyplot as plt"
   ]
  },
  {
   "cell_type": "code",
   "execution_count": 5,
   "metadata": {
    "collapsed": true
   },
   "outputs": [],
   "source": [
    "import IPython.parallel as pa "
   ]
  },
  {
   "cell_type": "code",
   "execution_count": 7,
   "metadata": {
    "collapsed": false
   },
   "outputs": [
    {
     "data": {
      "text/plain": [
       "{'__doc__': None, '__name__': 'parallel', '_mirror': 'ipyparallel'}"
      ]
     },
     "execution_count": 7,
     "metadata": {},
     "output_type": "execute_result"
    }
   ],
   "source": [
    "pa.__dict__"
   ]
  },
  {
   "cell_type": "code",
   "execution_count": 4,
   "metadata": {
    "collapsed": false
   },
   "outputs": [
    {
     "name": "stderr",
     "output_type": "stream",
     "text": [
      "/home/uguen/anaconda/lib/python2.7/site-packages/IPython/parallel.py:13: ShimWarning: The `IPython.parallel` package has been deprecated. You should import from ipyparallel instead.\n",
      "  \"You should import from ipyparallel instead.\", ShimWarning)\n"
     ]
    },
    {
     "ename": "ImportError",
     "evalue": "cannot import name Client",
     "output_type": "error",
     "traceback": [
      "\u001b[1;31m---------------------------------------------------------------------------\u001b[0m",
      "\u001b[1;31mImportError\u001b[0m                               Traceback (most recent call last)",
      "\u001b[1;32m<ipython-input-4-d5f0b2798c91>\u001b[0m in \u001b[0;36m<module>\u001b[1;34m()\u001b[0m\n\u001b[1;32m----> 1\u001b[1;33m \u001b[1;32mfrom\u001b[0m \u001b[0mIPython\u001b[0m\u001b[1;33m.\u001b[0m\u001b[0mparallel\u001b[0m \u001b[1;32mimport\u001b[0m \u001b[0mClient\u001b[0m\u001b[1;33m\u001b[0m\u001b[0m\n\u001b[0m\u001b[0;32m      2\u001b[0m \u001b[0mcl\u001b[0m \u001b[1;33m=\u001b[0m \u001b[0mClient\u001b[0m\u001b[1;33m(\u001b[0m\u001b[1;33m)\u001b[0m\u001b[1;33m\u001b[0m\u001b[0m\n\u001b[0;32m      3\u001b[0m \u001b[0mcl\u001b[0m\u001b[1;33m.\u001b[0m\u001b[0mclear\u001b[0m\u001b[1;33m(\u001b[0m\u001b[1;33m)\u001b[0m  \u001b[1;31m# Erases the workspace of the engines.\u001b[0m\u001b[1;33m\u001b[0m\u001b[0m\n\u001b[0;32m      4\u001b[0m \u001b[0mbview\u001b[0m \u001b[1;33m=\u001b[0m \u001b[0mcl\u001b[0m\u001b[1;33m.\u001b[0m\u001b[0mload_balanced_view\u001b[0m\u001b[1;33m(\u001b[0m\u001b[1;33m)\u001b[0m  \u001b[1;31m# Create a load balanced view that we will use later.\u001b[0m\u001b[1;33m\u001b[0m\u001b[0m\n",
      "\u001b[1;31mImportError\u001b[0m: cannot import name Client"
     ]
    }
   ],
   "source": [
    "from IPython.parallel import Client\n",
    "cl = Client()\n",
    "cl.clear()  # Erases the workspace of the engines.\n",
    "bview = cl.load_balanced_view()  # Create a load balanced view that we will use later."
   ]
  },
  {
   "cell_type": "markdown",
   "metadata": {},
   "source": [
    "Then we initialize the pylab inline in each engine.\n",
    "Note that we use the **%px** IPython cell magic to run the code in the cell for each engine."
   ]
  },
  {
   "cell_type": "code",
   "execution_count": 2,
   "metadata": {
    "collapsed": false
   },
   "outputs": [
    {
     "name": "stdout",
     "output_type": "stream",
     "text": [
      "[stdout:0] Populating the interactive namespace from numpy and matplotlib\n",
      "[stdout:1] Populating the interactive namespace from numpy and matplotlib\n",
      "[stdout:2] Populating the interactive namespace from numpy and matplotlib\n",
      "[stdout:3] Populating the interactive namespace from numpy and matplotlib\n",
      "[stdout:4] Populating the interactive namespace from numpy and matplotlib\n",
      "[stdout:5] Populating the interactive namespace from numpy and matplotlib\n",
      "[stdout:6] Populating the interactive namespace from numpy and matplotlib\n",
      "[stdout:7] Populating the interactive namespace from numpy and matplotlib\n"
     ]
    }
   ],
   "source": [
    "%%px\n",
    "%pylab inline\n",
    "from IPython.display import clear_output"
   ]
  },
  {
   "cell_type": "markdown",
   "metadata": {},
   "source": [
    "Similarly, we set the Python path and import some libraries at each engine."
   ]
  },
  {
   "cell_type": "code",
   "execution_count": 36,
   "metadata": {
    "collapsed": false
   },
   "outputs": [],
   "source": [
    "%%px\n",
    "# xxxxxxxxxx Add the parent folder to the python path. xxxxxxxxxxxxxxxxxxxx\n",
    "import sys\n",
    "import os\n",
    "sys.path.append('../')\n",
    "# xxxxxxxxxxxxxxxxxxxxxxxxxxxxxxxxxxxxxxxxxxxxxxxxxxxxxxxxxxxxxxxxxxxxxxxxx\n",
    "\n",
    "import numpy as np"
   ]
  },
  {
   "cell_type": "markdown",
   "metadata": {},
   "source": [
    "Because there is already an Alamouti simulator implemented in the \"apps\" folder of PyPhysim, we simple import it here and set the desired simulation parameters."
   ]
  },
  {
   "cell_type": "code",
   "execution_count": 4,
   "metadata": {
    "collapsed": false
   },
   "outputs": [],
   "source": [
    "%%px\n",
    "from pyphysim.comm.modulators import BPSK, QAM\n",
    "from apps.simulate_mimo import AlamoutiSimulationRunner"
   ]
  },
  {
   "cell_type": "markdown",
   "metadata": {},
   "source": [
    "## Simulation of Alamouti with 16-QAM\n",
    "\n",
    "First we create the SimulationRunner objects at each engine and set the parameters which are common to all engines. \n",
    "\n",
    "Note that the actual simulator is already implemented as an application in PyPhysim and we are only setting the parameters here."
   ]
  },
  {
   "cell_type": "code",
   "execution_count": 5,
   "metadata": {
    "collapsed": false
   },
   "outputs": [],
   "source": [
    "%%px\n",
    "sim = AlamoutiSimulationRunner(\"mimo_alamouti_config_file.txt\")\n",
    "sim.NSymbs = 300\n",
    "sim.rep_max = 10000\n",
    "sim.params.add('SNR', np.linspace(0, 25, 11))\n",
    "#sim.modulator = QAM(16)\n",
    "#sim.Nr=1\n",
    "sim.update_progress_function_style = None\n",
    "# max_bit_errors is used in the _keep_going method to stop the\n",
    "# simulation earlier if possible. We stop the simulation if the\n",
    "# accumulated number of bit errors becomes greater then 0.1% of the\n",
    "# total number of simulated bits\n",
    "sim.max_bit_errors = sim.rep_max * sim.NSymbs * 0.001\n",
    "sim.clear()"
   ]
  },
  {
   "cell_type": "markdown",
   "metadata": {},
   "source": [
    "We still need to set the **self.modulator** parameter with the desired modulator as well as the **self.Nr** parameter with the desired number of receive antennas. These values will differ at each engine.\n",
    "After that, we can call the simulate method to perform the actual simulation.\n",
    "\n",
    "Lets create a function that sets the modulator and number of receive antennas in the SimulationRunner object, calls its simulate method and then return the object. This is so that we can use the **map** method of a load_balanced_view."
   ]
  },
  {
   "cell_type": "code",
   "execution_count": 6,
   "metadata": {
    "collapsed": false
   },
   "outputs": [],
   "source": [
    "# Note that we run this on the local instance, instead of in the remote engines. That is, we do not use the %%px cell magic here.\n",
    "def set_params_and_simulate(params_list):\n",
    "    \"\"\"params_list must be a list with two elements, the modulator object, and the number of receive antennas.\"\"\"\n",
    "    modulator, Nr = params_list\n",
    "    sim.modulator = modulator\n",
    "    sim.Nr = Nr\n",
    "    \n",
    "    sim.simulate()\n",
    "    return sim"
   ]
  },
  {
   "cell_type": "markdown",
   "metadata": {},
   "source": [
    "Now lets create all the combination of modulator and number of receive antennas."
   ]
  },
  {
   "cell_type": "code",
   "execution_count": 7,
   "metadata": {
    "collapsed": false
   },
   "outputs": [],
   "source": [
    "# xxxxxxxxxx Add the parent folder to the python path. xxxxxxxxxxxxxxxxxxxx\n",
    "import sys\n",
    "import os\n",
    "sys.path.append('../')\n",
    "# xxxxxxxxxxxxxxxxxxxxxxxxxxxxxxxxxxxxxxxxxxxxxxxxxxxxxxxxxxxxxxxxxxxxxxxxx\n",
    "from pyphysim.comm.modulators import BPSK, QAM\n",
    "combinations = [[QAM(16), 1], [QAM(16), 2], [BPSK(), 1], [BPSK(), 2]]"
   ]
  },
  {
   "cell_type": "markdown",
   "metadata": {},
   "source": [
    "Now we can call the map_sync method of the balanced view to perform the simulations in parallel."
   ]
  },
  {
   "cell_type": "code",
   "execution_count": 8,
   "metadata": {
    "collapsed": false
   },
   "outputs": [
    {
     "name": "stdout",
     "output_type": "stream",
     "text": [
      "Total elapsed time: 1m:53s\n"
     ]
    }
   ],
   "source": [
    "from pyphysim.util.misc import pretty_time\n",
    "from time import time, sleep\n",
    "tic = time()\n",
    "results = bview.map_sync(set_params_and_simulate, combinations)\n",
    "toc = time()\n",
    "\n",
    "print \"Total elapsed time: {0}\".format(pretty_time(toc-tic))"
   ]
  },
  {
   "cell_type": "markdown",
   "metadata": {},
   "source": [
    "Since we used the map_sync method, then **results** will be a list containing the SimulationRunner objects (since set_params_and_simulate returns the SimulationRunner object)\n",
    "\n",
    "Therefore, lets get the individual SimulationRunner objects."
   ]
  },
  {
   "cell_type": "code",
   "execution_count": 9,
   "metadata": {
    "collapsed": false
   },
   "outputs": [
    {
     "name": "stdout",
     "output_type": "stream",
     "text": [
      "Elapsed time sim1: 1m:53s\n",
      "Elapsed time sim2: 1m:51s\n",
      "Elapsed time sim3: 1m:29s\n",
      "Elapsed time sim4: 1m:35s\n"
     ]
    }
   ],
   "source": [
    "sim1, sim2, sim3, sim4 = results\n",
    "print \"Elapsed time sim1: {0}\".format(sim1.elapsed_time)\n",
    "print \"Elapsed time sim2: {0}\".format(sim2.elapsed_time)\n",
    "print \"Elapsed time sim3: {0}\".format(sim3.elapsed_time)\n",
    "print \"Elapsed time sim4: {0}\".format(sim4.elapsed_time)"
   ]
  },
  {
   "cell_type": "markdown",
   "metadata": {},
   "source": [
    "## Plot the results"
   ]
  },
  {
   "cell_type": "markdown",
   "metadata": {},
   "source": [
    "With the SimulationRunner objects we can now get the results for each configuration.\n",
    "\n",
    "Lets get the results for 16-QAM modulation"
   ]
  },
  {
   "cell_type": "code",
   "execution_count": 31,
   "metadata": {
    "collapsed": false
   },
   "outputs": [],
   "source": [
    "def get_data_to_be_plotted(sim):\n",
    "    SNR = sim.params['SNR']\n",
    "    ber = np.array([r.get_result() for r in sim.results['ber']])\n",
    "    ser = np.array([r.get_result() for r in sim.results['ser']])\n",
    "    return SNR, ber, ser\n",
    "\n",
    "SNR, ber1, ser1 = get_data_to_be_plotted(sim1)\n",
    "SNR, ber2, ser2 = get_data_to_be_plotted(sim2)"
   ]
  },
  {
   "cell_type": "markdown",
   "metadata": {},
   "source": [
    "and now the results for BPSK modulation"
   ]
  },
  {
   "cell_type": "code",
   "execution_count": 33,
   "metadata": {
    "collapsed": false
   },
   "outputs": [],
   "source": [
    "SNR, ber3, ser3 = get_data_to_be_plotted(sim3)\n",
    "SNR, ber4, ser4 = get_data_to_be_plotted(sim4)"
   ]
  },
  {
   "cell_type": "markdown",
   "metadata": {},
   "source": [
    "Now we have what we need to plot everything."
   ]
  },
  {
   "cell_type": "code",
   "execution_count": 48,
   "metadata": {
    "collapsed": false
   },
   "outputs": [
    {
     "data": {
      "image/png": "[encoded data removed]",
      "text/plain": [
       "<matplotlib.figure.Figure at 0x6a25590>"
      ]
     },
     "metadata": {},
     "output_type": "display_data"
    }
   ],
   "source": [
    "from matplotlib import pyplot as plt\n",
    "\n",
    "fig, ax = plt.subplots(1, 2, figsize=(16,5))\n",
    "ax1, ax2 = ax\n",
    "\n",
    "# Plot the 16-QAM results\n",
    "ax1.semilogy(SNR, ber1, '-k*', label='NTx=2, NRx=1')\n",
    "ax1.semilogy(SNR, ber2, '-m*', label='NTx=2, NRx=2')\n",
    "ax1.set_title('BER for {0} modulation with Alamouti (Rayleight channel)'.format(sim1.modulator.name))\n",
    "ax1.set_xlabel('SNR')\n",
    "ax1.set_ylabel('Error')\n",
    "ax1.legend()\n",
    "ax1.grid()\n",
    "# Plot the BPSK results\n",
    "ax2.semilogy(SNR, ber3, '-k*', label='NTx=2, NRx=1')\n",
    "ax2.semilogy(SNR, ber4, '-m*', label='NTx=2, NRx=2')\n",
    "ax2.set_title('BER for {0} modulation with Alamouti (Rayleight channel)'.format(sim3.modulator.name))\n",
    "ax2.set_xlabel('SNR')\n",
    "ax2.set_ylabel('Error')\n",
    "ax2.legend()\n",
    "ax2.grid()\n",
    "\n",
    "plt.show()"
   ]
  },
  {
   "cell_type": "markdown",
   "metadata": {},
   "source": [
    "--------------------------------"
   ]
  },
  {
   "cell_type": "code",
   "execution_count": null,
   "metadata": {
    "collapsed": false
   },
   "outputs": [],
   "source": [
    "#%qtconsole"
   ]
  }
 ],
 "metadata": {
  "kernelspec": {
   "display_name": "Python 2",
   "language": "python",
   "name": "python2"
  },
  "language_info": {
   "codemirror_mode": {
    "name": "ipython",
    "version": 2
   },
   "file_extension": ".py",
   "mimetype": "text/x-python",
   "name": "python",
   "nbconvert_exporter": "python",
   "pygments_lexer": "ipython2",
   "version": "2.7.11"
  },
  "latex_envs": {
   "bibliofile": "biblio.bib",
   "cite_by": "apalike",
   "current_citInitial": 1,
   "eqLabelWithNumbers": true,
   "eqNumInitial": 0
  }
 },
 "nbformat": 4,
 "nbformat_minor": 0
}
