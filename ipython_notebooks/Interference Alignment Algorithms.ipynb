{
 "cells": [
  {
   "cell_type": "markdown",
   "metadata": {},
   "source": [
    "$\\newcommand{\\Vt}[1]{\\mathbf{#1}}$\n",
    "$\\newcommand{\\Mt}[1]{\\mathbf{#1}}$\n",
    "$\\newcommand{\\vtA}{\\Vt{A}}$\n",
    "$\\newcommand{\\vtB}{\\Vt{B}}$\n",
    "$\\newcommand{\\vtC}{\\Vt{C}}$\n",
    "$\\newcommand{\\vtD}{\\Vt{D}}$\n",
    "$\\newcommand{\\vtE}{\\Vt{E}}$\n",
    "$\\newcommand{\\vtF}{\\Vt{F}}$\n",
    "$\\newcommand{\\vtG}{\\Vt{G}}$\n",
    "$\\newcommand{\\vtH}{\\Vt{H}}$\n",
    "$\\newcommand{\\vtI}{\\Vt{I}}$\n",
    "$\\newcommand{\\vtJ}{\\Vt{J}}$\n",
    "$\\newcommand{\\vtK}{\\Vt{K}}$\n",
    "$\\newcommand{\\vtL}{\\Vt{L}}$\n",
    "$\\newcommand{\\vtM}{\\Vt{M}}$\n",
    "$\\newcommand{\\vtN}{\\Vt{N}}$\n",
    "$\\newcommand{\\vtO}{\\Vt{P}}$\n",
    "$\\newcommand{\\vtP}{\\Vt{P}}$\n",
    "$\\newcommand{\\vtQ}{\\Vt{Q}}$\n",
    "$\\newcommand{\\vtR}{\\Vt{R}}$\n",
    "$\\newcommand{\\vtS}{\\Vt{S}}$\n",
    "$\\newcommand{\\vtT}{\\Vt{T}}$\n",
    "$\\newcommand{\\vtU}{\\Vt{U}}$\n",
    "$\\newcommand{\\vtV}{\\Vt{V}}$\n",
    "$\\newcommand{\\vtW}{\\Vt{W}}$\n",
    "$\\newcommand{\\vtX}{\\Vt{X}}$\n",
    "$\\newcommand{\\vtY}{\\Vt{Y}}$\n",
    "$\\newcommand{\\vtZ}{\\Vt{Z}}$\n",
    "$\\newcommand{\\mtA}{\\Mt{A}}$\n",
    "$\\newcommand{\\mtB}{\\Mt{B}}$\n",
    "$\\newcommand{\\mtC}{\\Mt{C}}$\n",
    "$\\newcommand{\\mtD}{\\Mt{D}}$\n",
    "$\\newcommand{\\mtE}{\\Mt{E}}$\n",
    "$\\newcommand{\\mtF}{\\Mt{F}}$\n",
    "$\\newcommand{\\mtG}{\\Mt{G}}$\n",
    "$\\newcommand{\\mtH}{\\Mt{H}}$\n",
    "$\\newcommand{\\mtI}{\\Mt{I}}$\n",
    "$\\newcommand{\\mtJ}{\\Mt{J}}$\n",
    "$\\newcommand{\\mtK}{\\Mt{K}}$\n",
    "$\\newcommand{\\mtL}{\\Mt{L}}$\n",
    "$\\newcommand{\\mtM}{\\Mt{M}}$\n",
    "$\\newcommand{\\mtN}{\\Mt{N}}$\n",
    "$\\newcommand{\\mtO}{\\Mt{P}}$\n",
    "$\\newcommand{\\mtP}{\\Mt{P}}$\n",
    "$\\newcommand{\\mtQ}{\\Mt{Q}}$\n",
    "$\\newcommand{\\mtR}{\\Mt{R}}$\n",
    "$\\newcommand{\\mtS}{\\Mt{S}}$\n",
    "$\\newcommand{\\mtT}{\\Mt{T}}$\n",
    "$\\newcommand{\\mtU}{\\Mt{U}}$\n",
    "$\\newcommand{\\mtV}{\\Mt{V}}$\n",
    "$\\newcommand{\\mtW}{\\Mt{W}}$\n",
    "$\\newcommand{\\mtX}{\\Mt{X}}$\n",
    "$\\newcommand{\\mtY}{\\Mt{Y}}$\n",
    "$\\newcommand{\\mtZ}{\\Mt{Z}}$"
   ]
  },
  {
   "cell_type": "markdown",
   "metadata": {},
   "source": [
    "# Interference Alignment Algorithms"
   ]
  },
  {
   "cell_type": "markdown",
   "metadata": {},
   "source": [
    "This notebook illustrates some Interference Alignment algorithms.\n",
    "\n",
    "The channel model used is the $K$-user MIMO IC channel, where we have $K$ pairs of transmitters and receivers and each transmitter sends useful information only to its intended receiver, while interfering with the other receivers. This is shown in the figure below"
   ]
  },
  {
   "cell_type": "markdown",
   "metadata": {},
   "source": [
    "<center><img src=\"files/figs/mimo_ic_channel.png\" /></center>"
   ]
  },
  {
   "cell_type": "markdown",
   "metadata": {},
   "source": [
    "The received signal at the $i$-th receiver is given by\n",
    "\n",
    "$$\\vtY_i = \\mtH_{ii}\\mtP_i\\vtX_i + \\sum_{j=1,i \\neq j}^{K}\\mtH_{ij}\\mtP_j \\vtX_j + \\vtN_i$$"
   ]
  },
  {
   "cell_type": "markdown",
   "metadata": {},
   "source": [
    "## Max SINR Algorithm"
   ]
  },
  {
   "cell_type": "code",
   "execution_count": 4,
   "metadata": {
    "collapsed": false
   },
   "outputs": [],
   "source": [
    "# xxxxxxxxxx Add the parent folder to the python path. xxxxxxxxxxxxxxxxxxxx\n",
    "import sys\n",
    "import os\n",
    "parent_dir = os.path.abspath(\"../\")\n",
    "sys.path.append(parent_dir)\n",
    "# xxxxxxxxxxxxxxxxxxxxxxxxxxxxxxxxxxxxxxxxxxxxxxxxxxxxxxxxxxxxxxxxxxxxxxxxx\n",
    "\n",
    "# Imports\n",
    "import numpy as np\n",
    "from pyphysim.ia.algorithms import MaxSinrIASolver\n",
    "from pyphysim.channels.multiuser import MultiUserChannelMatrix"
   ]
  },
  {
   "cell_type": "code",
   "execution_count": 5,
   "metadata": {
    "collapsed": false
   },
   "outputs": [],
   "source": [
    "# Parameters\n",
    "K = 3\n",
    "Nt = np.ones(K, dtype=int) * 2\n",
    "Nr = np.ones(K, dtype=int) * 2\n",
    "Ns = np.ones(K, dtype=int) * 1\n",
    "\n",
    "# Transmit power of all users\n",
    "#P = np.array([1.2, 1.5, 0.9])\n",
    "P = np.array([1.0, 1.0, 1.0])\n",
    "\n",
    "multiUserChannel = MultiUserChannelMatrix()"
   ]
  },
  {
   "cell_type": "code",
   "execution_count": 6,
   "metadata": {
    "collapsed": false
   },
   "outputs": [],
   "source": [
    "iasolver = MaxSinrIASolver(multiUserChannel)\n",
    "# xxxxx Debug xxxxxxxxxxxxxxxxxxxxxxxxxxxxxxxxxxxxxxxxxxxxxxxxxxxxx\n",
    "np.random.seed(42)  # Used in the generation of the random precoder\n",
    "iasolver._multiUserChannel.set_channel_seed(324)\n",
    "# xxxxxxxxxxxxxxxxxxxxxxxxxxxxxxxxxxxxxxxxxxxxxxxxxxxxxxxxxxxxxxxxx"
   ]
  },
  {
   "cell_type": "code",
   "execution_count": 7,
   "metadata": {
    "collapsed": false
   },
   "outputs": [],
   "source": [
    "multiUserChannel.randomize(Nr, Nt, K)\n",
    "iasolver.randomizeF(Ns, P)\n",
    "iasolver._W = iasolver._calc_Uk_all_k()"
   ]
  },
  {
   "cell_type": "code",
   "execution_count": 8,
   "metadata": {
    "collapsed": false
   },
   "outputs": [
    {
     "name": "stdout",
     "output_type": "stream",
     "text": [
      "H00:\n",
      "[[ 0.01608358-0.28801973j -0.50580390+0.46957611j]\n",
      " [ 0.39462287+0.62481233j -1.02069290-1.5030812j ]]\n",
      "H01:\n",
      "[[-0.11873262+1.42888543j -0.31994329+0.13836513j]\n",
      " [ 0.57738181+0.41599236j -0.78665621-0.14339029j]]\n",
      "H02:\n",
      "[[ 0.49340765-0.25458154j  0.03147854+0.43807291j]\n",
      " [ 1.18848527-0.104588j   -0.17561667+0.74935185j]]\n",
      "H10:\n",
      "[[-0.42117955+0.48372503j  0.04705041-0.09973857j]\n",
      " [ 0.92956390+0.09824229j  0.08322531-0.67695677j]]\n",
      "H11:\n",
      "[[-1.34734628-0.53649153j -0.38577536-0.48610577j]\n",
      " [-0.91668658+0.95406676j -0.22285468-0.53978479j]]\n",
      "H12:\n",
      "[[ 0.32888506-0.76865339j  0.72286753-1.29639442j]\n",
      " [ 0.41708429-0.7573189j  -0.61649953-0.27770005j]]\n",
      "H20:\n",
      "[[ 0.23383923+0.20593993j  0.86344260-0.43217091j]\n",
      " [ 1.14296838-1.03600672j  1.20329661+0.51232803j]]\n",
      "H21:\n",
      "[[ 0.11485867-0.58304759j -0.07661408-0.27170194j]\n",
      " [ 1.51098154-0.52919436j  1.31794940-0.65805912j]]\n",
      "H22:\n",
      "[[-0.51944144+0.16765058j -0.27394494-1.16611525j]\n",
      " [ 0.15608834-1.16981583j  0.97095685-0.67274147j]]\n"
     ]
    }
   ],
   "source": [
    "H00 = multiUserChannel.H[0,0]\n",
    "H01 = multiUserChannel.H[0,1]\n",
    "H02 = multiUserChannel.H[0,2]\n",
    "H10 = multiUserChannel.H[1,0]\n",
    "H11 = multiUserChannel.H[1,1]\n",
    "H12 = multiUserChannel.H[1,2]\n",
    "H20 = multiUserChannel.H[2,0]\n",
    "H21 = multiUserChannel.H[2,1]\n",
    "H22 = multiUserChannel.H[2,2]\n",
    "\n",
    "print \"H00:\\n{0}\".format(H00)\n",
    "print \"H01:\\n{0}\".format(H01)\n",
    "print \"H02:\\n{0}\".format(H02)\n",
    "print \"H10:\\n{0}\".format(H10)\n",
    "print \"H11:\\n{0}\".format(H11)\n",
    "print \"H12:\\n{0}\".format(H12)\n",
    "print \"H20:\\n{0}\".format(H20)\n",
    "print \"H21:\\n{0}\".format(H21)\n",
    "print \"H22:\\n{0}\".format(H22)"
   ]
  },
  {
   "cell_type": "markdown",
   "metadata": {},
   "source": [
    "### Step 0"
   ]
  },
  {
   "cell_type": "code",
   "execution_count": 9,
   "metadata": {
    "collapsed": false
   },
   "outputs": [
    {
     "name": "stdout",
     "output_type": "stream",
     "text": [
      "F00:\n",
      "[[ 0.73601231-0.55845943j]\n",
      " [ 0.06236916+0.37751692j]]\n",
      "F10:\n",
      "[[-0.71218206-0.50115561j]\n",
      " [ 0.16734230+0.46220811j]]\n",
      "F20:\n",
      "[[ 0.25356716-0.2274427j]\n",
      " [-0.00618713-0.9401783j]]\n"
     ]
    }
   ],
   "source": [
    "# Different precoders: Fkl is column vector\n",
    "F00 = iasolver.F[0][:, 0:1]\n",
    "F10 = iasolver.F[1][:, 0:1]\n",
    "F20 = iasolver.F[2][:, 0:1]\n",
    "print \"F00:\\n{0}\".format(F00)\n",
    "print \"F10:\\n{0}\".format(F10)\n",
    "print \"F20:\\n{0}\".format(F20)"
   ]
  },
  {
   "cell_type": "markdown",
   "metadata": {},
   "source": [
    "Lets calculate the covariance matrices $\\mtB^{[kl]}$"
   ]
  },
  {
   "cell_type": "code",
   "execution_count": 10,
   "metadata": {
    "collapsed": false
   },
   "outputs": [
    {
     "name": "stdout",
     "output_type": "stream",
     "text": [
      "B00:\n",
      "[[ 2.91231141 -2.49800181e-16j  1.37003520 +8.14894324e-01j]\n",
      " [ 1.37003520 -8.14894324e-01j  3.00426230 +1.38777878e-17j]]\n",
      "\n",
      "B10:\n",
      "[[ 3.97796534 +2.22044605e-16j -0.12660903 +1.29486763e+00j]\n",
      " [-0.12660903 -1.29486763e+00j  2.40050922 -2.77555756e-17j]]\n",
      "\n",
      "B20:\n",
      "[[ 1.50139490 -3.46944695e-17j  0.02625903 +3.12222990e-01j]\n",
      " [ 0.02625903 -3.12222990e-01j  2.53822501 +1.66533454e-16j]]\n"
     ]
    }
   ],
   "source": [
    "# Bkl for the different k and l\n",
    "# k=0, l=0\n",
    "second_part00 = np.dot(np.dot(np.dot(H00, F00), F00.transpose().conjugate()), H00.transpose().conjugate())\n",
    "first_part00 = np.dot(np.dot(np.dot(H00, F00), F00.transpose().conjugate()), H00.transpose().conjugate()) + \\\n",
    "    np.dot(np.dot(np.dot(H01, F10), F10.transpose().conjugate()), H01.transpose().conjugate()) + \\\n",
    "    np.dot(np.dot(np.dot(H02, F20), F20.transpose().conjugate()), H02.transpose().conjugate())\n",
    "\n",
    "B00 = first_part00 - second_part00 + np.eye(Nr[0])\n",
    "print \"B00:\\n{0}\".format(B00)\n",
    "print\n",
    "\n",
    "# k=1, l=0\n",
    "second_part10 = np.dot(np.dot(np.dot(H11, F10), F10.transpose().conjugate()), H11.transpose().conjugate())\n",
    "first_part10 = np.dot(np.dot(np.dot(H10, F00), F00.transpose().conjugate()), H10.transpose().conjugate()) + \\\n",
    "    np.dot(np.dot(np.dot(H11, F10), F10.transpose().conjugate()), H11.transpose().conjugate()) + \\\n",
    "    np.dot(np.dot(np.dot(H12, F20), F20.transpose().conjugate()), H12.transpose().conjugate())\n",
    "B10 = first_part10 - second_part10 + np.eye(Nr[0])\n",
    "print \"B10:\\n{0}\".format(B10)\n",
    "print\n",
    "\n",
    "# k=2, l=0\n",
    "second_part20 = np.dot(np.dot(np.dot(H22, F20), F20.transpose().conjugate()), H22.transpose().conjugate())\n",
    "first_part20 = np.dot(np.dot(np.dot(H20, F00), F00.transpose().conjugate()), H20.transpose().conjugate()) + \\\n",
    "    np.dot(np.dot(np.dot(H21, F10), F10.transpose().conjugate()), H21.transpose().conjugate()) + \\\n",
    "    np.dot(np.dot(np.dot(H22, F20), F20.transpose().conjugate()), H22.transpose().conjugate())\n",
    "B20 = first_part20 - second_part20 + np.eye(Nr[0])\n",
    "print \"B20:\\n{0}\".format(B20)"
   ]
  },
  {
   "cell_type": "markdown",
   "metadata": {},
   "source": [
    "Lets calculate the combining vectors $\\mtU^{[kl]}_{\\star l}$"
   ]
  },
  {
   "cell_type": "code",
   "execution_count": 11,
   "metadata": {
    "collapsed": false
   },
   "outputs": [
    {
     "name": "stdout",
     "output_type": "stream",
     "text": [
      "U00:\n",
      "[[-0.53223043-0.32890505j]\n",
      " [ 0.77519997-0.08727685j]]\n",
      "Uk_all_K[0]:\n",
      "[[-0.60113585-0.33231774j]\n",
      " [ 0.72471269-0.05470026j]]\n",
      "\n",
      "U10:\n",
      "[[ 0.35324537+0.02594732j]\n",
      " [ 0.93052953-0.09305497j]]\n",
      "Uk_all_K[1]:\n",
      "[[ 0.25389023-0.20722734j]\n",
      " [ 0.94473297-0.00872861j]]\n",
      "\n",
      "U20:\n",
      "[[-0.74956911+0.30652047j]\n",
      " [-0.31047582-0.49779125j]]\n",
      "Uk_all_K[2]:\n",
      "[[-0.82760843+0.36126315j]\n",
      " [-0.20207245-0.37910413j]]\n",
      "\n"
     ]
    }
   ],
   "source": [
    "Uk_all_K = iasolver._calc_Uk_all_k()\n",
    "\n",
    "# k = 0, l=0\n",
    "U00 = np.dot(np.dot(np.linalg.inv(B00), H00), F00)\n",
    "U00 = U00/np.linalg.norm(U00, 'fro')\n",
    "print \"U00:\\n{0}\".format(U00)\n",
    "print \"Uk_all_K[0]:\\n{0}\".format(Uk_all_K[0])\n",
    "print\n",
    "\n",
    "U10 = np.dot(np.dot(np.linalg.inv(B10), H11), F10)\n",
    "U10 = U10/np.linalg.norm(U10, 'fro')\n",
    "print \"U10:\\n{0}\".format(U10)\n",
    "print \"Uk_all_K[1]:\\n{0}\".format(Uk_all_K[1])\n",
    "print\n",
    "\n",
    "U20 = np.dot(np.dot(np.linalg.inv(B20), H22), F20)\n",
    "U20 = U20/np.linalg.norm(U20, 'fro')\n",
    "print \"U20:\\n{0}\".format(U20)\n",
    "print \"Uk_all_K[2]:\\n{0}\".format(Uk_all_K[2])\n",
    "print"
   ]
  },
  {
   "cell_type": "markdown",
   "metadata": {},
   "source": [
    "Now lets reverse the comunication"
   ]
  },
  {
   "cell_type": "code",
   "execution_count": 12,
   "metadata": {
    "collapsed": false
   },
   "outputs": [],
   "source": [
    "# The precoders correspond to the combining vectors\n",
    "Fr00 = U00\n",
    "Fr10 = U10\n",
    "Fr20 = U20\n",
    "\n",
    "# The channel Hkl correspods to Hlk^H\n",
    "Hr00 = H00.transpose().conjugate()\n",
    "Hr01 = H10.transpose().conjugate()\n",
    "Hr02 = H20.transpose().conjugate()\n",
    "Hr10 = H01.transpose().conjugate()\n",
    "Hr11 = H11.transpose().conjugate()\n",
    "Hr12 = H21.transpose().conjugate()\n",
    "Hr20 = H02.transpose().conjugate()\n",
    "Hr21 = H12.transpose().conjugate()\n",
    "Hr22 = H22.transpose().conjugate()"
   ]
  },
  {
   "cell_type": "markdown",
   "metadata": {},
   "source": [
    "Lets calculate the covariance matrices in the reversed network"
   ]
  },
  {
   "cell_type": "code",
   "execution_count": 13,
   "metadata": {
    "collapsed": false
   },
   "outputs": [
    {
     "name": "stdout",
     "output_type": "stream",
     "text": [
      "Br00:\n",
      "[[ 2.09127352 -8.32667268e-17j  0.13741105 +4.30698741e-01j]\n",
      " [ 0.13741105 -4.30698741e-01j  3.69019415 +1.38777878e-17j]]\n",
      "\n",
      "Br10:\n",
      "[[ 3.14132144 +2.77555756e-17j  1.63513732 -5.73240422e-01j]\n",
      " [ 1.63513732 +5.73240422e-01j  2.54618298 -2.77555756e-17j]]\n",
      "\n",
      "Br20:\n",
      "[[ 2.87017653 -8.32667268e-17j  0.40619421 -3.74439888e-01j]\n",
      " [ 0.40619421 +3.74439888e-01j  1.98318193 +1.38777878e-17j]]\n"
     ]
    }
   ],
   "source": [
    "# Bkl for the different k and l\n",
    "# k=0, l=0\n",
    "second_part_r_00 = np.dot(np.dot(np.dot(Hr00, Fr00), Fr00.transpose().conjugate()), Hr00.transpose().conjugate())\n",
    "first_part_r_00 = np.dot(np.dot(np.dot(Hr00, Fr00), Fr00.transpose().conjugate()), Hr00.transpose().conjugate()) + \\\n",
    "    np.dot(np.dot(np.dot(Hr01, Fr10), Fr10.transpose().conjugate()), Hr01.transpose().conjugate()) + \\\n",
    "    np.dot(np.dot(np.dot(Hr02, Fr20), Fr20.transpose().conjugate()), Hr02.transpose().conjugate())\n",
    "\n",
    "Br00 = first_part_r_00 - second_part_r_00 + np.eye(Nr[0])\n",
    "print \"Br00:\\n{0}\".format(Br00)\n",
    "print\n",
    "\n",
    "# k=1, l=0\n",
    "second_part_r_10 = np.dot(np.dot(np.dot(Hr11, Fr10), Fr10.transpose().conjugate()), Hr11.transpose().conjugate())\n",
    "first_part_r_10 = np.dot(np.dot(np.dot(Hr10, Fr00), Fr00.transpose().conjugate()), Hr10.transpose().conjugate()) + \\\n",
    "    np.dot(np.dot(np.dot(Hr11, Fr10), Fr10.transpose().conjugate()), Hr11.transpose().conjugate()) + \\\n",
    "    np.dot(np.dot(np.dot(Hr12, Fr20), Fr20.transpose().conjugate()), Hr12.transpose().conjugate())\n",
    "Br10 = first_part_r_10 - second_part_r_10 + np.eye(Nr[0])\n",
    "print \"Br10:\\n{0}\".format(Br10)\n",
    "print\n",
    "\n",
    "# k=2, l=0\n",
    "second_part_r_20 = np.dot(np.dot(np.dot(Hr22, Fr20), Fr20.transpose().conjugate()), Hr22.transpose().conjugate())\n",
    "first_part_r_20 = np.dot(np.dot(np.dot(Hr20, Fr00), Fr00.transpose().conjugate()), Hr20.transpose().conjugate()) + \\\n",
    "    np.dot(np.dot(np.dot(Hr21, Fr10), Fr10.transpose().conjugate()), Hr21.transpose().conjugate()) + \\\n",
    "    np.dot(np.dot(np.dot(Hr22, Fr20), Fr20.transpose().conjugate()), Hr22.transpose().conjugate())\n",
    "Br20 = first_part_r_20 - second_part_r_20 + np.eye(Nr[0])\n",
    "print \"Br20:\\n{0}\".format(Br20)"
   ]
  },
  {
   "cell_type": "markdown",
   "metadata": {},
   "source": [
    "Calculate the combining vectors in the reverse network"
   ]
  },
  {
   "cell_type": "code",
   "execution_count": 14,
   "metadata": {
    "collapsed": false
   },
   "outputs": [
    {
     "name": "stdout",
     "output_type": "stream",
     "text": [
      "Ur00:\n",
      "[[ 0.40709480-0.4977479j ]\n",
      " [-0.17859833+0.74473048j]]\n",
      "Urk_all_K[0]:\n",
      "[[ 0.43137685-0.74308828j]\n",
      " [-0.13813227+0.49259852j]]\n",
      "\n",
      "Ur10:\n",
      "[[-0.57046029-0.4749017j ]\n",
      " [ 0.16258738+0.65008367j]]\n",
      "Urk_all_K[1]:\n",
      "[[-0.41218145-0.46190731j]\n",
      " [ 0.22474766+0.75248693j]]\n",
      "\n",
      "Ur20:\n",
      "[[ 0.46098372-0.05587892j]\n",
      " [-0.16214408-0.87067839j]]\n",
      "Urk_all_K[2]:\n",
      "[[ 0.20655358+0.03600462j]\n",
      " [-0.14972343-0.96624127j]]\n",
      "\n"
     ]
    }
   ],
   "source": [
    "Urk_all_K = iasolver._calc_Uk_all_k_rev()\n",
    "\n",
    "# k = 0, l=0\n",
    "Ur00 = np.dot(np.dot(np.linalg.inv(Br00), Hr00), Fr00)\n",
    "Ur00 = Ur00/np.linalg.norm(Ur00, 'fro')\n",
    "print \"Ur00:\\n{0}\".format(Ur00)\n",
    "print \"Urk_all_K[0]:\\n{0}\".format(Urk_all_K[0])\n",
    "print\n",
    "\n",
    "Ur10 = np.dot(np.dot(np.linalg.inv(Br10), Hr11), Fr10)\n",
    "Ur10 = Ur10/np.linalg.norm(Ur10, 'fro')\n",
    "print \"Ur10:\\n{0}\".format(Ur10)\n",
    "print \"Urk_all_K[1]:\\n{0}\".format(Urk_all_K[1])\n",
    "print\n",
    "\n",
    "Ur20 = np.dot(np.dot(np.linalg.inv(Br20), Hr22), Fr20)\n",
    "Ur20 = Ur20/np.linalg.norm(Ur20, 'fro')\n",
    "print \"Ur20:\\n{0}\".format(Ur20)\n",
    "print \"Urk_all_K[2]:\\n{0}\".format(Urk_all_K[2])\n",
    "print"
   ]
  },
  {
   "cell_type": "markdown",
   "metadata": {},
   "source": [
    "Reverse the comunication again"
   ]
  },
  {
   "cell_type": "code",
   "execution_count": 15,
   "metadata": {
    "collapsed": false
   },
   "outputs": [
    {
     "name": "stdout",
     "output_type": "stream",
     "text": [
      "F00:\n",
      "[[ 0.43137685-0.74308828j]\n",
      " [-0.13813227+0.49259852j]]\n",
      "F10:\n",
      "[[-0.41218145-0.46190731j]\n",
      " [ 0.22474766+0.75248693j]]\n",
      "F20:\n",
      "[[ 0.20655358+0.03600462j]\n",
      " [-0.14972343-0.96624127j]]\n"
     ]
    }
   ],
   "source": [
    "iasolver._F = Urk_all_K\n",
    "print \"F00:\\n{0}\".format(iasolver.F[0])\n",
    "print \"F10:\\n{0}\".format(iasolver.F[1])\n",
    "print \"F20:\\n{0}\".format(iasolver.F[2])"
   ]
  }
 ],
 "metadata": {
  "kernelspec": {
   "display_name": "Python 2",
   "language": "python",
   "name": "python2"
  },
  "language_info": {
   "codemirror_mode": {
    "name": "ipython",
    "version": 2
   },
   "file_extension": ".py",
   "mimetype": "text/x-python",
   "name": "python",
   "nbconvert_exporter": "python",
   "pygments_lexer": "ipython2",
   "version": "2.7.11"
  },
  "latex_envs": {
   "bibliofile": "biblio.bib",
   "cite_by": "apalike",
   "current_citInitial": 1,
   "eqLabelWithNumbers": true,
   "eqNumInitial": 0
  }
 },
 "nbformat": 4,
 "nbformat_minor": 0
}
